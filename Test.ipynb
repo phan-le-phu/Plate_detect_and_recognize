{
  "nbformat": 4,
  "nbformat_minor": 0,
  "metadata": {
    "colab": {
      "name": "Test.ipynb",
      "provenance": [],
      "authorship_tag": "ABX9TyOMU9ofyhY5RyMrVcWZNDvi",
      "include_colab_link": true
    },
    "kernelspec": {
      "display_name": "Python 3",
      "name": "python3"
    },
    "language_info": {
      "name": "python"
    }
  },
  "cells": [
    {
      "cell_type": "markdown",
      "metadata": {
        "id": "view-in-github",
        "colab_type": "text"
      },
      "source": [
        "<a href=\"https://colab.research.google.com/github/phan-le-phu/Plate_detect_and_recognize/blob/master/Test.ipynb\" target=\"_parent\"><img src=\"https://colab.research.google.com/assets/colab-badge.svg\" alt=\"Open In Colab\"/></a>"
      ]
    },
    {
      "cell_type": "code",
      "metadata": {
        "colab": {
          "base_uri": "https://localhost:8080/"
        },
        "id": "BLIrfVRte5uO",
        "outputId": "23b22115-27c1-42e1-8ef2-adf1d5494e8d"
      },
      "source": [
        "!git clone https://github.com/phan-le-phu/Plate_detect_and_recognize"
      ],
      "execution_count": 1,
      "outputs": [
        {
          "output_type": "stream",
          "text": [
            "Cloning into 'Plate_detect_and_recognize'...\n",
            "remote: Enumerating objects: 210, done.\u001b[K\n",
            "remote: Counting objects: 100% (30/30), done.\u001b[K\n",
            "remote: Compressing objects: 100% (30/30), done.\u001b[K\n",
            "remote: Total 210 (delta 11), reused 0 (delta 0), pack-reused 180\u001b[K\n",
            "Receiving objects: 100% (210/210), 55.82 MiB | 24.13 MiB/s, done.\n",
            "Resolving deltas: 100% (80/80), done.\n"
          ],
          "name": "stdout"
        }
      ]
    },
    {
      "cell_type": "code",
      "metadata": {
        "id": "NAlDGK4ekmBY"
      },
      "source": [
        "!unzip /content/car_long.zip"
      ],
      "execution_count": null,
      "outputs": []
    },
    {
      "cell_type": "code",
      "metadata": {
        "colab": {
          "base_uri": "https://localhost:8080/"
        },
        "id": "fel84ecmfhAx",
        "outputId": "acb7869a-93a2-4254-8c90-e1c1a130da0c"
      },
      "source": [
        "cd Plate_detect_and_recognize"
      ],
      "execution_count": 4,
      "outputs": [
        {
          "output_type": "stream",
          "text": [
            "/content/Plate_detect_and_recognize\n"
          ],
          "name": "stdout"
        }
      ]
    },
    {
      "cell_type": "code",
      "metadata": {
        "id": "-lDtZlSTf696"
      },
      "source": [
        "# remove warning message\n",
        "import os\n",
        "os.environ['TF_CPP_MIN_LOG_LEVEL'] = '3'\n",
        "\n",
        "# required library\n",
        "import cv2\n",
        "import numpy as np\n",
        "import matplotlib.pyplot as plt\n",
        "import matplotlib.gridspec as gridspec\n",
        "from local_utils import detect_lp\n",
        "from os.path import splitext,basename\n",
        "from keras.models import model_from_json\n",
        "import glob\n",
        "import math\n",
        "from keras.models import model_from_json\n",
        "from keras.preprocessing.image import load_img, img_to_array\n",
        "from keras.applications.mobilenet_v2 import preprocess_input\n",
        "from sklearn.preprocessing import LabelEncoder\n",
        "from collections import Counter"
      ],
      "execution_count": 5,
      "outputs": []
    },
    {
      "cell_type": "code",
      "metadata": {
        "id": "oBhEX6rzf8Ev"
      },
      "source": [
        "def load_model(path):\n",
        "    try:\n",
        "        path = splitext(path)[0]\n",
        "        with open('%s.json' % path, 'r') as json_file:\n",
        "            model_json = json_file.read()\n",
        "        model = model_from_json(model_json, custom_objects={})\n",
        "        model.load_weights('%s.h5' % path)\n",
        "        print(\"Loading model successfully...\")\n",
        "        return model\n",
        "    except Exception as e:\n",
        "        print(e)"
      ],
      "execution_count": 6,
      "outputs": []
    },
    {
      "cell_type": "code",
      "metadata": {
        "colab": {
          "base_uri": "https://localhost:8080/"
        },
        "id": "CNjY3KmlgBlP",
        "outputId": "12d0e88a-a99e-470b-d322-d6a0578b913e"
      },
      "source": [
        "wpod_net_path = \"wpod-net.json\"\n",
        "wpod_net = load_model(wpod_net_path)"
      ],
      "execution_count": 7,
      "outputs": [
        {
          "output_type": "stream",
          "text": [
            "Loading model successfully...\n"
          ],
          "name": "stdout"
        }
      ]
    },
    {
      "cell_type": "code",
      "metadata": {
        "colab": {
          "base_uri": "https://localhost:8080/"
        },
        "id": "cQVCAeeXh7KT",
        "outputId": "43aaf860-4710-4362-b679-cf4a9bbca069"
      },
      "source": [
        "# Load model architecture, weight and labels\n",
        "json_file = open('MobileNets_character_recognition.json', 'r')\n",
        "loaded_model_json = json_file.read()\n",
        "json_file.close()\n",
        "model = model_from_json(loaded_model_json)\n",
        "model.load_weights(\"License_character_recognition_weight.h5\")\n",
        "print(\"[INFO] Model loaded successfully...\")\n",
        "\n",
        "labels = LabelEncoder()\n",
        "labels.classes_ = np.load('license_character_classes.npy')\n",
        "print(\"[INFO] Labels loaded successfully...\")"
      ],
      "execution_count": 8,
      "outputs": [
        {
          "output_type": "stream",
          "text": [
            "[INFO] Model loaded successfully...\n",
            "[INFO] Labels loaded successfully...\n"
          ],
          "name": "stdout"
        }
      ]
    },
    {
      "cell_type": "code",
      "metadata": {
        "id": "dUfd1mpIgE-x"
      },
      "source": [
        "def preprocess_image(image_path,resize=False):\n",
        "    img = cv2.imread(image_path)\n",
        "    img = cv2.cvtColor(img, cv2.COLOR_BGR2RGB)\n",
        "    img = img / 255\n",
        "    if resize:\n",
        "        img = cv2.resize(img, (224,224))\n",
        "    return img\n",
        "\n",
        "def get_plate(image_path, Dmax=608, Dmin=256):\n",
        "    vehicle = preprocess_image(image_path)\n",
        "    ratio = float(max(vehicle.shape[:2])) / min(vehicle.shape[:2])\n",
        "    side = int(ratio * Dmin)\n",
        "    bound_dim = min(side, Dmax)\n",
        "    _ , LpImg, _, cor = detect_lp(wpod_net, vehicle, bound_dim, lp_threshold=0.5)\n",
        "    return vehicle, LpImg, cor"
      ],
      "execution_count": 9,
      "outputs": []
    },
    {
      "cell_type": "code",
      "metadata": {
        "id": "TSguuRNgi5as"
      },
      "source": [
        "# Create sort_contours() function to grab the contour of each digit from left to right\n",
        "def sort_contours(cnts, height, reverse = False):\n",
        "\n",
        "    boundingBoxes = [cv2.boundingRect(c) for c in cnts]\n",
        "    (cnts, boundingBoxes) = zip(*sorted(zip(cnts, boundingBoxes),\n",
        "                                        key=lambda b: [1 if 1.2<=height / (b[1][1] + 1)<=3.0 else 0, b[1][0]], \n",
        "                                        reverse=reverse))\n",
        "    return cnts\n",
        "\n",
        "def predict_from_model(image,model,labels):\n",
        "    image = cv2.resize(image,(80,80))\n",
        "    image = np.stack((image,)*3, axis=-1)\n",
        "    prediction = labels.inverse_transform([np.argmax(model.predict(image[np.newaxis,:]))])\n",
        "    return prediction"
      ],
      "execution_count": 20,
      "outputs": []
    },
    {
      "cell_type": "code",
      "metadata": {
        "id": "rtPZIew1gSJ5"
      },
      "source": [
        "def detect_and_recognize_plate(image_path):\n",
        "  _, LpImg, _ = get_plate(image_path)\n",
        "\n",
        "  for i in range(len(LpImg)):\n",
        "\n",
        "      # Scales, calculates absolute values, and converts the result to 8-bit.\n",
        "      plate_image = cv2.convertScaleAbs(LpImg[i], alpha=(255.0))\n",
        "      \n",
        "      # convert to grayscale and blur the image\n",
        "      gray = cv2.cvtColor(plate_image, cv2.COLOR_BGR2GRAY)\n",
        "      blur = cv2.GaussianBlur(gray,(7,7),0)\n",
        "      \n",
        "      # Applied inversed thresh_binary \n",
        "      binary = cv2.threshold(blur, 180, 255,\n",
        "                          cv2.THRESH_BINARY_INV + cv2.THRESH_OTSU)[1]\n",
        "      \n",
        "      kernel3 = cv2.getStructuringElement(cv2.MORPH_RECT, (3, 3))\n",
        "      thre_mor = cv2.morphologyEx(binary, cv2.MORPH_DILATE, kernel3)\n",
        "\n",
        "      \n",
        "      pad = cv2.copyMakeBorder(thre_mor, 1,1,1,1, cv2.BORDER_CONSTANT, value=255)\n",
        "      h, w = pad.shape\n",
        "\n",
        "      # create zeros mask 2 pixels larger in each dimension\n",
        "      mask = np.zeros([h + 2, w + 2], np.uint8)\n",
        "\n",
        "      # floodfill outer white border with black\n",
        "      img_floodfill = cv2.floodFill(pad, mask, (0,0), 0, (5), (0), flags=8)[1]\n",
        "\n",
        "      # remove border\n",
        "      thre_mor = img_floodfill[1:h-1, 1:w-1]    \n",
        "\n",
        "      cont, _  = cv2.findContours(thre_mor, cv2.RETR_EXTERNAL, cv2.CHAIN_APPROX_SIMPLE)\n",
        "\n",
        "\n",
        "      # Initialize a list which will be used to append charater image\n",
        "      crop_characters = []\n",
        "\n",
        "      # define standard width and height of character\n",
        "      digit_w, digit_h = 30, 60\n",
        "\n",
        "      for c in sort_contours(cont, plate_image.shape[0]):\n",
        "          (x, y, w, h) = cv2.boundingRect(c)\n",
        "          ratio = h/w\n",
        "          if 0.6<=ratio<=10: # Only select contour with defined ratio\n",
        "              if 0.3<=h/plate_image.shape[0]<=0.9: # Select contour which has the height larger than 50% of the plate\n",
        "\n",
        "                  # Sperate number and gibe prediction\n",
        "                  curr_num = thre_mor[y:y+h,x:x+w]\n",
        "                  curr_num = cv2.resize(curr_num, dsize=(digit_w, digit_h))\n",
        "                  _, curr_num = cv2.threshold(curr_num, 220, 255, cv2.THRESH_BINARY + cv2.THRESH_OTSU)\n",
        "                  crop_characters.append(curr_num)\n",
        "\n",
        "\n",
        "\n",
        "\n",
        "      \n",
        "      final_string = ''\n",
        "      for i,character in enumerate(crop_characters):\n",
        "          title = np.array2string(predict_from_model(character,model,labels))\n",
        "          final_string+=title.strip(\"'[]\")\n",
        "      \n",
        "      return final_string"
      ],
      "execution_count": 18,
      "outputs": []
    },
    {
      "cell_type": "code",
      "metadata": {
        "id": "mi7v1BTLk1UG"
      },
      "source": [
        "import pandas as pd"
      ],
      "execution_count": 12,
      "outputs": []
    },
    {
      "cell_type": "code",
      "metadata": {
        "id": "4p3VS2ZzlEWV"
      },
      "source": [
        "df = pd.read_csv('/content/LABLE.csv')"
      ],
      "execution_count": 27,
      "outputs": []
    },
    {
      "cell_type": "code",
      "metadata": {
        "colab": {
          "base_uri": "https://localhost:8080/",
          "height": 204
        },
        "id": "QaAXKBp0le5Z",
        "outputId": "8ae83372-fda6-44aa-c900-75bdd2a21284"
      },
      "source": [
        "df.head()"
      ],
      "execution_count": 28,
      "outputs": [
        {
          "output_type": "execute_result",
          "data": {
            "text/html": [
              "<div>\n",
              "<style scoped>\n",
              "    .dataframe tbody tr th:only-of-type {\n",
              "        vertical-align: middle;\n",
              "    }\n",
              "\n",
              "    .dataframe tbody tr th {\n",
              "        vertical-align: top;\n",
              "    }\n",
              "\n",
              "    .dataframe thead th {\n",
              "        text-align: right;\n",
              "    }\n",
              "</style>\n",
              "<table border=\"1\" class=\"dataframe\">\n",
              "  <thead>\n",
              "    <tr style=\"text-align: right;\">\n",
              "      <th></th>\n",
              "      <th>filename</th>\n",
              "      <th>Platecharacters</th>\n",
              "    </tr>\n",
              "  </thead>\n",
              "  <tbody>\n",
              "    <tr>\n",
              "      <th>0</th>\n",
              "      <td>0000_00532_b.jpg</td>\n",
              "      <td>59P164480</td>\n",
              "    </tr>\n",
              "    <tr>\n",
              "      <th>1</th>\n",
              "      <td>0000_02187_b.jpg</td>\n",
              "      <td>59E121500</td>\n",
              "    </tr>\n",
              "    <tr>\n",
              "      <th>2</th>\n",
              "      <td>0000_05696_b.jpg</td>\n",
              "      <td>59L206377</td>\n",
              "    </tr>\n",
              "    <tr>\n",
              "      <th>3</th>\n",
              "      <td>0000_06886_b.jpg</td>\n",
              "      <td>59C165331</td>\n",
              "    </tr>\n",
              "    <tr>\n",
              "      <th>4</th>\n",
              "      <td>0000_08244_b.jpg</td>\n",
              "      <td>59T108264</td>\n",
              "    </tr>\n",
              "  </tbody>\n",
              "</table>\n",
              "</div>"
            ],
            "text/plain": [
              "           filename Platecharacters\n",
              "0  0000_00532_b.jpg       59P164480\n",
              "1  0000_02187_b.jpg       59E121500\n",
              "2  0000_05696_b.jpg       59L206377\n",
              "3  0000_06886_b.jpg       59C165331\n",
              "4  0000_08244_b.jpg       59T108264"
            ]
          },
          "metadata": {
            "tags": []
          },
          "execution_count": 28
        }
      ]
    },
    {
      "cell_type": "code",
      "metadata": {
        "id": "dVm0Xm1h3ImP"
      },
      "source": [
        "import time"
      ],
      "execution_count": 15,
      "outputs": []
    },
    {
      "cell_type": "code",
      "metadata": {
        "colab": {
          "base_uri": "https://localhost:8080/"
        },
        "id": "GK6hrJx_l1mh",
        "outputId": "8fc5a6a4-a89d-4fac-d683-ab9822ea34cf"
      },
      "source": [
        "start = time.time()\n",
        "print(detect_and_recognize_plate('/content/Plate_detect_and_recognize/GreenParking/0000_00532_b.jpg'), time.time() - start)"
      ],
      "execution_count": 30,
      "outputs": [
        {
          "output_type": "stream",
          "text": [
            "59P166480 0.8915398120880127\n"
          ],
          "name": "stdout"
        }
      ]
    },
    {
      "cell_type": "code",
      "metadata": {
        "id": "8akR4ynJ1d6G"
      },
      "source": [
        "name_files = df['filename']\n",
        "characters = df['Platecharacters']"
      ],
      "execution_count": 32,
      "outputs": []
    },
    {
      "cell_type": "code",
      "metadata": {
        "colab": {
          "base_uri": "https://localhost:8080/"
        },
        "id": "FHTXjG0v1kQp",
        "outputId": "b859e092-1ef7-4d99-8583-64ccd8d8739d"
      },
      "source": [
        "count = 0\n",
        "for name, string in zip(name_files, characters):\n",
        "  try:\n",
        "    if string == detect_and_recognize_plate('/content/Plate_detect_and_recognize/GreenParking/' + name):\n",
        "      count += 1\n",
        "    else:\n",
        "      print(name)\n",
        "  except:\n",
        "    print(f\"Runtime error {name}\")"
      ],
      "execution_count": 33,
      "outputs": [
        {
          "output_type": "stream",
          "text": [
            "0000_00532_b.jpg\n",
            "0002_02183_b.jpg\n",
            "0003_02063_b.jpg\n",
            "0003_07398_b.jpg\n",
            "0004_06801_b.jpg\n",
            "0005_00490_b.jpg\n",
            "0005_00512_b.jpg\n",
            "0005_02171_b.jpg\n",
            "0006_06035_b.jpg\n",
            "0006_06797_b.jpg\n",
            "0007_05159_b.jpg\n",
            "0009_00490_b.jpg\n",
            "0009_02194_b.jpg\n",
            "0009_05325_b.jpg\n",
            "0010_02063_b.jpg\n",
            "0011_00515_b.jpg\n",
            "0012_04539_b.jpg\n",
            "0013_05647_b.jpg\n",
            "0014_02176_b.jpg\n",
            "0019_06895_b.jpg\n",
            "0020_02063_b.jpg\n",
            "0020_07156_b.jpg\n",
            "0021_06361_b.jpg\n",
            "0022_01753_b.jpg\n",
            "0028_00196_b.jpg\n",
            "0028_08102_b.jpg\n",
            "0031_07285_b.jpg\n",
            "0038_01762_b.jpg\n",
            "0039_01689_b.jpg\n",
            "0041_00507_b.jpg\n",
            "0041_00697_b.jpg\n",
            "0041_04542_b.jpg\n",
            "0042_01746_b.jpg\n",
            "0042_05741_b.jpg\n",
            "0043_01133_b.jpg\n",
            "0045_01674_b.jpg\n",
            "0046_00961_b.jpg\n",
            "0046_06241_b.jpg\n",
            "0047_00717_b.jpg\n",
            "0047_00970_b.jpg\n",
            "0047_01152_b.jpg\n",
            "0047_03046_b.jpg\n",
            "0048_01689_b.jpg\n",
            "0048_01752_b.jpg\n",
            "0049_03047_b.jpg\n",
            "0049_04676_b.jpg\n",
            "0050_01152_b.jpg\n",
            "0051_00959_b.jpg\n",
            "0052_05252_b.jpg\n",
            "0054_03047_b.jpg\n",
            "0054_04076_b.jpg\n",
            "0054_05705_b.jpg\n",
            "0054_06669_b.jpg\n",
            "0055_01981_b.jpg\n",
            "0056_01595_b.jpg\n",
            "0056_05671_b.jpg\n",
            "0057_04356_b.jpg\n",
            "0057_06324_b.jpg\n",
            "0058_00594_b.jpg\n",
            "0058_01145_b.jpg\n",
            "0058_02021_b.jpg\n",
            "0058_05613_b.jpg\n",
            "0059_04445_b.jpg\n",
            "0059_04971_b.jpg\n",
            "0059_06835_b.jpg\n",
            "0100_00168_b.jpg\n",
            "0100_00252_b.jpg\n",
            "0100_01595_b.jpg\n",
            "0100_08183_b.jpg\n",
            "0101_01391_b.jpg\n",
            "0101_01715_b.jpg\n",
            "0101_05739_b.jpg\n",
            "0102_04296_b.jpg\n",
            "0102_04565_b.jpg\n",
            "0102_06556_b.jpg\n",
            "0103_01697_b.jpg\n",
            "0103_05539_b.jpg\n",
            "0103_06841_b.jpg\n",
            "0104_00171_b.jpg\n",
            "0104_08083_b.jpg\n",
            "0105_01594_b.jpg\n",
            "0106_08292_b.jpg\n",
            "0107_00252_b.jpg\n",
            "0108_05849_b.jpg\n",
            "0109_01594_b.jpg\n",
            "0109_02232_b.jpg\n",
            "0109_04995_b.jpg\n",
            "0110_00060_b.jpg\n",
            "0110_00252_b.jpg\n",
            "0110_01653_b.jpg\n",
            "0110_01670_b.jpg\n",
            "0110_04515_b.jpg\n",
            "0112_01081_b.jpg\n",
            "0112_05816_b.jpg\n",
            "0113_08001_b.jpg\n",
            "0114_05537_b.jpg\n",
            "0114_05671_b.jpg\n",
            "0115_01853_b.jpg\n",
            "0115_01928_b.jpg\n",
            "0115_01937_b.jpg\n",
            "0115_02514_b.jpg\n",
            "0116_00148_b.jpg\n",
            "0116_00818_b.jpg\n",
            "0116_00986_b.jpg\n",
            "0117_00060_b.jpg\n",
            "0117_00148_b.jpg\n",
            "0117_05755_b.jpg\n",
            "0118_00750_b.jpg\n",
            "0118_00754_b.jpg\n",
            "0118_00818_b.jpg\n",
            "0118_00942_b.jpg\n",
            "0118_01640_b.jpg\n",
            "0118_07169_b.jpg\n",
            "0119_02244_b.jpg\n",
            "0119_02501_b.jpg\n",
            "0120_00060_b.jpg\n",
            "0120_01073_b.jpg\n"
          ],
          "name": "stdout"
        }
      ]
    },
    {
      "cell_type": "code",
      "metadata": {
        "colab": {
          "base_uri": "https://localhost:8080/"
        },
        "id": "sVf-4_UIBN0g",
        "outputId": "98044796-c81b-475f-ef2f-90b6793fcff2"
      },
      "source": [
        "print(count)"
      ],
      "execution_count": 34,
      "outputs": [
        {
          "output_type": "stream",
          "text": [
            "93\n"
          ],
          "name": "stdout"
        }
      ]
    },
    {
      "cell_type": "code",
      "metadata": {
        "id": "nlsUe98N-pVZ"
      },
      "source": [
        "!unzip /content/GreenParking.zip"
      ],
      "execution_count": null,
      "outputs": []
    }
  ]
}